{
 "cells": [
  {
   "cell_type": "markdown",
   "metadata": {
    "collapsed": false
   },
   "source": [
    "Check that output files from the C++ computation contain only solutions to the Gram determinant equation, by doing an exact computation in the appropriate cyclotomic field."
   ]
  },
  {
   "cell_type": "code",
   "execution_count": 8,
   "metadata": {
    "collapsed": false
   },
   "outputs": [
   ],
   "source": [
    "import os, re"
   ]
  },
  {
   "cell_type": "code",
   "execution_count": 9,
   "metadata": {
    "collapsed": false
   },
   "outputs": [
   ],
   "source": [
    "def algebraic_gram_test(N, n1, n2, n3, n4, n5, n6):\n",
    "    K.<z> = CyclotomicField(2*N)\n",
    "    (x1, x2, x3, x4, x5, x6) = tuple(z^i for i in (n1, n2, n3, n4, n5, n6))\n",
    "    gram_matrix = -Matrix([[-2, x1+1/x1, x3+1/x3, x5+1/x5],\n",
    "                       [x1+1/x1, -2, x6+1/x6, x4+1/x4],\n",
    "                       [x3+1/x3, x6+1/x6, -2, x2+1/x2],\n",
    "                       [x5+1/x5, x4+1/x4, x2+1/x2, -2]])\n",
    "    return gram_matrix.det() == 0"
   ]
  },
  {
   "cell_type": "code",
   "execution_count": 10,
   "metadata": {
    "collapsed": false
   },
   "outputs": [
   ],
   "source": [
    "l = os.listdir(\"DATA/\")"
   ]
  },
  {
   "cell_type": "code",
   "execution_count": 11,
   "metadata": {
    "collapsed": false
   },
   "outputs": [
   ],
   "source": [
    "for fn in l:\n",
    "    if re.match(\"^data.*leftovers\", fn):\n",
    "        ct = 0\n",
    "        with open(\"DATA/{}\".format(fn), \"r\") as f:\n",
    "            for s in f:\n",
    "                l2 = s.split(\" \")\n",
    "                assert algebraic_gram_test(*(int(l2[i]) for i in (0,2,3,4,5,6,7)))\n",
    "                ct += 1\n",
    "        if ct > 0:\n",
    "            print(\"{}: {} solutions verified\".format(fn, ct))"
   ]
  },
  {
   "cell_type": "code",
   "execution_count": 12,
   "metadata": {
    "collapsed": false
   },
   "outputs": [
    {
     "name": "stdout",
     "output_type": "stream",
     "text": [
      "sporadics_genuine_tetrahedra.txt: 76 solutions verified\n"
     ]
    },
    {
     "name": "stdout",
     "output_type": "stream",
     "text": [
      "sporadics_minimally_degenerate_up_to_420.txt: 792 solutions verified\n"
     ]
    }
   ],
   "source": [
    "for fn in l:\n",
    "    if re.match(\"^sporadics\", fn):\n",
    "        ct = 0\n",
    "        with open(\"DATA/{}\".format(fn), \"r\") as f:\n",
    "            for s in f:\n",
    "                m = re.match(r\"(\\[.*,.*,.*,.*,.*,.*,.*\\])\", s)\n",
    "                if m:\n",
    "                    assert algebraic_gram_test(*sage_eval(m.group(1)))\n",
    "                    ct += 1\n",
    "        if ct > 0:\n",
    "            print(\"{}: {} solutions verified\".format(fn, ct))"
   ]
  },
  {
   "cell_type": "code",
   "execution_count": 13,
   "metadata": {
    "collapsed": false
   },
   "outputs": [
   ],
   "source": [
    "def algebraic_gram_test_parametric(l):\n",
    "    num_params = len(l) - 1\n",
    "    t = l[0]\n",
    "    N = lcm(x.denominator() for x in t)\n",
    "    K.<z> = CyclotomicField(2*N)\n",
    "    P = LaurentPolynomialRing(K, num_params, names='y')\n",
    "    (x1, x2, x3, x4, x5, x6) = tuple(z^(t[i]*N)*prod(P.gens()[j]^l[j+1][i] for j in range(num_params)) for i in range(6))\n",
    "    gram_matrix = -Matrix([[-2, x1+1/x1, x3+1/x3, x5+1/x5],\n",
    "                       [x1+1/x1, -2, x6+1/x6, x4+1/x4],\n",
    "                       [x3+1/x3, x6+1/x6, -2, x2+1/x2],\n",
    "                       [x5+1/x5, x4+1/x4, x2+1/x2, -2]])\n",
    "    return gram_matrix.det() == 0"
   ]
  },
  {
   "cell_type": "code",
   "execution_count": 14,
   "metadata": {
    "collapsed": false
   },
   "outputs": [
    {
     "name": "stdout",
     "output_type": "stream",
     "text": [
      "1_parameter_families.txt: 144 solutions verified\n",
      "2_parameter_families.txt: 8 solutions verified\n"
     ]
    }
   ],
   "source": [
    "for fn in l:\n",
    "    if re.search(\"families\", fn):\n",
    "        ct = 0\n",
    "        with open(\"DATA/{}\".format(fn), \"r\") as f:\n",
    "            for s in f:\n",
    "                m = re.match(r\"(\\[\\[.*\\]\\])\", s)\n",
    "                if m:\n",
    "                    assert algebraic_gram_test_parametric(sage_eval(m.group(1)))\n",
    "                    ct += 1\n",
    "        print(\"{}: {} solutions verified\".format(fn, ct))"
   ]
  },
  {
   "cell_type": "code",
   "execution_count": 0,
   "metadata": {
    "collapsed": false
   },
   "outputs": [
   ],
   "source": [
   ]
  }
 ],
 "metadata": {
  "kernelspec": {
   "display_name": "SageMath 9.1",
   "language": "sagemath",
   "metadata": {
    "cocalc": {
     "description": "Open-source mathematical software system",
     "priority": 10,
     "url": "https://www.sagemath.org/"
    }
   },
   "name": "sage-9.1"
  },
  "language_info": {
   "codemirror_mode": {
    "name": "ipython",
    "version": 3
   },
   "file_extension": ".py",
   "mimetype": "text/x-python",
   "name": "python",
   "nbconvert_exporter": "python",
   "pygments_lexer": "ipython3",
   "version": "3.7.3"
  }
 },
 "nbformat": 4,
 "nbformat_minor": 4
}