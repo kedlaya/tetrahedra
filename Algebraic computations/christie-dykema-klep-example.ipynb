{
 "cells": [
  {
   "cell_type": "markdown",
   "metadata": {
    "collapsed": false
   },
   "source": [
    "These computations support Remark 6.11 of \"Space vectors forming rational angles\"."
   ]
  },
  {
   "cell_type": "markdown",
   "metadata": {
    "collapsed": false
   },
   "source": [
    "These subroutines look for a minimal relation (or mod-2 relation) among a list of roots of unity."
   ]
  },
  {
   "cell_type": "code",
   "execution_count": 27,
   "metadata": {
    "collapsed": false
   },
   "outputs": [
   ],
   "source": [
    "import itertools\n",
    "def minimal_relation(l, mod_2 = False):\n",
    "    for i in list(range(1, len(l)//2+1)) + [len(l)]:\n",
    "        print(i)\n",
    "        for s in itertools.combinations(l, i):\n",
    "            t = sum(s)\n",
    "            if (not mod_2 and t == 0) or (mod_2 and all(i%2 == 0 for i in list(t))):\n",
    "                return(s)\n",
    "    raise ValueError(\"No relation found\")\n",
    "\n",
    "\n",
    "def is_minimal_relation(l, mod_2=False):\n",
    "    return len(l) == len(minimal_relation(l, mod_2=mod_2))"
   ]
  },
  {
   "cell_type": "code",
   "execution_count": 28,
   "metadata": {
    "collapsed": false
   },
   "outputs": [
   ],
   "source": [
    "N = 3*5*7\n",
    "K.<z0> = CyclotomicField(N)\n",
    "z3 = z0^(N//3)\n",
    "z6 = z0^(N//6)\n",
    "z5 = z0^(N//5)\n",
    "z7 = z0^(N//7)"
   ]
  },
  {
   "cell_type": "markdown",
   "metadata": {
    "collapsed": false
   },
   "source": [
    "Construct a cyclotomic relation of Christie-Dykema-Klep (example from section 2.2)."
   ]
  },
  {
   "cell_type": "code",
   "execution_count": 29,
   "metadata": {
    "collapsed": false
   },
   "outputs": [
   ],
   "source": [
    "l = [[1, z3*z5^4]] * 7\n",
    "l[4] = [-z3, -z5^4, z3^2*z5, z3^2*z5^2, z3^2*z5^3]\n",
    "l[6] = [-z5, -z5^2, -z5^3, -z5^4, -z5^4, -z3^2*z5^4]\n",
    "l1 = [z7^i*j for i in range(7) for j in l[i]]"
   ]
  },
  {
   "cell_type": "markdown",
   "metadata": {
    "collapsed": false
   },
   "source": [
    "Assert that this is a minimal cyclotomic relation."
   ]
  },
  {
   "cell_type": "code",
   "execution_count": 31,
   "metadata": {
    "collapsed": false
   },
   "outputs": [
    {
     "name": "stdout",
     "output_type": "stream",
     "text": [
      "1\n",
      "2\n",
      "3\n",
      "4\n",
      "5\n"
     ]
    },
    {
     "name": "stdout",
     "output_type": "stream",
     "text": [
      "6\n"
     ]
    },
    {
     "name": "stdout",
     "output_type": "stream",
     "text": [
      "7\n"
     ]
    },
    {
     "name": "stdout",
     "output_type": "stream",
     "text": [
      "8\n"
     ]
    },
    {
     "name": "stdout",
     "output_type": "stream",
     "text": [
      "9\n"
     ]
    },
    {
     "name": "stdout",
     "output_type": "stream",
     "text": [
      "10\n"
     ]
    },
    {
     "name": "stdout",
     "output_type": "stream",
     "text": [
      "21\n"
     ]
    }
   ],
   "source": [
    "assert is_minimal_relation(l1)"
   ]
  },
  {
   "cell_type": "markdown",
   "metadata": {
    "collapsed": false
   },
   "source": [
    "Remove the duplicated term."
   ]
  },
  {
   "cell_type": "code",
   "execution_count": 32,
   "metadata": {
    "collapsed": false
   },
   "outputs": [
    {
     "data": {
      "text/plain": [
       "19"
      ]
     },
     "execution_count": 32,
     "metadata": {
     },
     "output_type": "execute_result"
    }
   ],
   "source": [
    "l2 = l1[:]\n",
    "l2.remove(-z5^4*z7^6)\n",
    "l2.remove(-z5^4*z7^6)\n",
    "len(l2)"
   ]
  },
  {
   "cell_type": "markdown",
   "metadata": {
    "collapsed": false
   },
   "source": [
    "Assert that the result is a minimal mod-2 cyclotomic relation."
   ]
  },
  {
   "cell_type": "code",
   "execution_count": 33,
   "metadata": {
    "collapsed": false
   },
   "outputs": [
    {
     "name": "stdout",
     "output_type": "stream",
     "text": [
      "1\n",
      "2\n"
     ]
    },
    {
     "name": "stdout",
     "output_type": "stream",
     "text": [
      "3\n"
     ]
    },
    {
     "name": "stdout",
     "output_type": "stream",
     "text": [
      "4\n"
     ]
    },
    {
     "name": "stdout",
     "output_type": "stream",
     "text": [
      "5\n"
     ]
    },
    {
     "name": "stdout",
     "output_type": "stream",
     "text": [
      "6\n"
     ]
    },
    {
     "name": "stdout",
     "output_type": "stream",
     "text": [
      "7\n"
     ]
    },
    {
     "name": "stdout",
     "output_type": "stream",
     "text": [
      "8\n"
     ]
    },
    {
     "name": "stdout",
     "output_type": "stream",
     "text": [
      "9\n"
     ]
    },
    {
     "name": "stdout",
     "output_type": "stream",
     "text": [
      "19\n"
     ]
    }
   ],
   "source": [
    "assert is_minimal_relation(l2, mod_2=True)"
   ]
  },
  {
   "cell_type": "markdown",
   "metadata": {
    "collapsed": false
   },
   "source": [
    "Assert that no lift of the mod-2 relation is a cyclotomic relation."
   ]
  },
  {
   "cell_type": "code",
   "execution_count": 34,
   "metadata": {
    "collapsed": false
   },
   "outputs": [
   ],
   "source": [
    "for t in itertools.product([-1, 1], repeat=len(l2)-1):\n",
    "    assert l2[-1] + sum(t[i]*l2[i] for i in range(len(l2)-1)) != 0"
   ]
  },
  {
   "cell_type": "code",
   "execution_count": 0,
   "metadata": {
    "collapsed": false
   },
   "outputs": [
   ],
   "source": [
   ]
  }
 ],
 "metadata": {
  "kernelspec": {
   "display_name": "SageMath 9.3",
   "language": "sagemath",
   "metadata": {
    "cocalc": {
     "description": "Open-source mathematical software system",
     "priority": 1,
     "url": "https://www.sagemath.org/"
    }
   },
   "name": "sage-9.3",
   "resource_dir": "/ext/jupyter/kernels/sage-9.3"
  }
 },
 "nbformat": 4,
 "nbformat_minor": 4
}