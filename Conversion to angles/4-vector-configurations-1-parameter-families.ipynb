{
 "cells": [
  {
   "cell_type": "code",
   "execution_count": 1,
   "metadata": {
    "collapsed": false
   },
   "outputs": [
   ],
   "source": [
    " ### This is a runtime estimate section ###\n",
    "from datetime import datetime;\n",
    "t0 = datetime.now();"
   ]
  },
  {
   "cell_type": "code",
   "execution_count": 2,
   "metadata": {
    "collapsed": false
   },
   "outputs": [
   ],
   "source": [
    "#########################################################################################\n",
    "### Define the 1-parameter *algebraic* families of 4 vectors (up to the action of G') ###\n",
    "#########################################################################################"
   ]
  },
  {
   "cell_type": "code",
   "execution_count": 3,
   "metadata": {
    "collapsed": false
   },
   "outputs": [
   ],
   "source": [
    "#\n",
    "algebraic_families = [ [[0, 0, 2/3, 1, 1/2, 0], [1, 1, 0, -2, 0, 1]],\n",
    "                       [[0, 0, 2/3, 1, 2/3, 0], [1, 2, 0, -3, 0, 1]],\n",
    "                       [[1/3, 0, 1/2, 1, 1, 0], [0, 2, 0, -3, 1, 1]] ];\n",
    "#"
   ]
  },
  {
   "cell_type": "code",
   "execution_count": 4,
   "metadata": {
    "collapsed": false
   },
   "outputs": [
   ],
   "source": [
    "#############################################################################################\n",
    "### Define the group of sign changes (\\pm 1)^6, the symmetric group S_4, the Regge group, ###\n",
    "### and the signed Regge group as matrix groups: since the signed Regge group is affine,  ###\n",
    "### we use 7x7 matrices                                                                   ###\n",
    "#############################################################################################"
   ]
  },
  {
   "cell_type": "code",
   "execution_count": 5,
   "metadata": {
    "collapsed": false
   },
   "outputs": [
   ],
   "source": [
    "#\n",
    "# Sign invertions (one for each element of the 6-tuple)\n",
    "#\n",
    "Sign = [[-1,  1, 1, 1, 1, 1],\n",
    "        [ 1, -1, 1, 1, 1, 1],\n",
    "        [ 1, 1, -1, 1, 1, 1],\n",
    "        [ 1, 1, 1, -1, 1, 1],\n",
    "        [ 1, 1, 1, 1, -1, 1],\n",
    "        [ 1, 1, 1, 1, 1, -1]];\n",
    "#\n",
    "# A Regge involution\n",
    "#\n",
    "Regge = [[-1, 1, 1, 1, 0, 0, 0],\n",
    "         [1, -1, 1, 1, 0, 0, 0],\n",
    "         [1, 1, -1, 1, 0, 0, 0],\n",
    "         [1, 1, 1, -1, 0, 0, 0],\n",
    "         [0, 0, 0, 0,  2, 0, 0],\n",
    "         [0, 0, 0, 0,  0, 2, 0],\n",
    "         [0, 0, 0, 0,  0, 0, 2]];\n",
    "#\n",
    "Regge = 1/2*matrix(QQ, Regge);\n",
    "#\n",
    "# Elements of S_4\n",
    "#\n",
    "S12 = [[0, 0, 1, 0, 0, 0, 0],\n",
    "       [0, 0, 0, 1, 0, 0, 0],\n",
    "       [1, 0, 0, 0, 0, 0, 0],\n",
    "       [0, 1, 0, 0, 0, 0, 0],\n",
    "       [0, 0, 0, 0, 1, 0, 0],\n",
    "       [0, 0, 0, 0, 0, 1, 0],\n",
    "       [0, 0, 0, 0,  0, 0, 1]];\n",
    "#\n",
    "S12 = matrix(QQ, S12);\n",
    "#\n",
    "#\n",
    "#\n",
    "S13 = [[0, 0, 0, 0, 1, 0, 0],\n",
    "       [0, 0, 0, 0, 0, 1, 0],\n",
    "       [0, 0, 1, 0, 0, 0, 0],\n",
    "       [0, 0, 0, 1, 0, 0, 0],\n",
    "       [1, 0, 0, 0, 0, 0, 0],\n",
    "       [0, 1, 0, 0, 0, 0, 0],\n",
    "       [0, 0, 0, 0,  0, 0, 1]];\n",
    "#\n",
    "S13 = matrix(QQ, S13);\n",
    "#\n",
    "#\n",
    "#\n",
    "S12_row = [[0, 1, 0, 0, 0, 0, 0],\n",
    "           [1, 0, 0, 0, 0, 0, 0],\n",
    "           [0, 0, 0, 1, 0, 0, 0],\n",
    "           [0, 0, 1, 0, 0, 0, 0],\n",
    "           [0, 0, 0, 0, 1, 0, 0],\n",
    "           [0, 0, 0, 0, 0, 1, 0],\n",
    "           [0, 0, 0, 0,  0, 0, 1]];\n",
    "#\n",
    "S12_row = matrix(QQ, S12_row);\n",
    "#\n",
    "# Negating a vector\n",
    "#\n",
    "Vector_neg = [[-1, 0,  0, 0, 0, 0, 1],\n",
    "              [ 0, 1,  0, 0, 0, 0, 0],\n",
    "              [ 0, 0, -1, 0, 0, 0, 1],\n",
    "              [ 0, 0, 0, 1,  0, 0, 0],\n",
    "              [ 0, 0, 0, 0, -1, 0, 1],\n",
    "              [ 0, 0, 0, 0,  0, 1, 0],\n",
    "              [ 0, 0, 0, 0,  0, 0, 1]];\n",
    "#\n",
    "Vector_neg = matrix(QQ, Vector_neg);\n",
    "#\n",
    "# Defining the groups:\n",
    "#\n",
    "# Sign changes = (\\pm 1)^6\n",
    "#\n",
    "Signs = MatrixGroup([matrix.diagonal(QQ,m).augment(vector([0,0,0,0,0,0])).transpose().augment(vector([0,0,0,0,0,0,1])) for m in Sign]);\n",
    "#\n",
    "# S_4 symmetric group\n",
    "#\n",
    "Sym = MatrixGroup([S12, S13, S12_row]);\n",
    "#\n",
    "# S^{\\pm}_4 = \"signed\" S_4 group = S_4 symmetric group + vector negations\n",
    "#\n",
    "Sym_sign = MatrixGroup([S12, S13, S12_row, Vector_neg]);\n",
    "#\n",
    "# \\mathfrak{R} = Regge symmetries\n",
    "#\n",
    "ReggeSym = MatrixGroup([Regge, S12, S13]);\n",
    "#\n",
    "# \"Affine\" Regge symmetries = \\mathfrak{R}^{\\pm} = Regge symmetries + vector negations\n",
    "#\n",
    "ReggeSym_affine = MatrixGroup([Regge, S12, S13, Vector_neg]);\n",
    "#"
   ]
  },
  {
   "cell_type": "code",
   "execution_count": 6,
   "metadata": {
    "collapsed": false
   },
   "outputs": [
   ],
   "source": [
    "### Checking the group we created above (needs GAP to run) ###"
   ]
  },
  {
   "cell_type": "code",
   "execution_count": 7,
   "metadata": {
    "collapsed": false
   },
   "outputs": [
    {
     "name": "stdout",
     "output_type": "stream",
     "text": [
      "64\n",
      "C2 x C2 x C2 x C2 x C2 x C2\n"
     ]
    }
   ],
   "source": [
    "#\n",
    "print(Signs.order());\n",
    "print(Signs.structure_description());\n",
    "#"
   ]
  },
  {
   "cell_type": "code",
   "execution_count": 8,
   "metadata": {
    "collapsed": false
   },
   "outputs": [
    {
     "name": "stdout",
     "output_type": "stream",
     "text": [
      "24\n",
      "S4\n"
     ]
    }
   ],
   "source": [
    "#\n",
    "print(Sym.order());\n",
    "print(Sym.structure_description());\n",
    "#"
   ]
  },
  {
   "cell_type": "code",
   "execution_count": 9,
   "metadata": {
    "collapsed": false
   },
   "outputs": [
    {
     "name": "stdout",
     "output_type": "stream",
     "text": [
      "192\n",
      "(((C2 x C2 x C2 x C2) : C3) : C2) : C2\n"
     ]
    }
   ],
   "source": [
    "#\n",
    "print(Sym_sign.order());\n",
    "print(Sym_sign.structure_description());\n",
    "#"
   ]
  },
  {
   "cell_type": "code",
   "execution_count": 10,
   "metadata": {
    "collapsed": false
   },
   "outputs": [
    {
     "name": "stdout",
     "output_type": "stream",
     "text": [
      "144\n",
      "S3 x S4\n"
     ]
    }
   ],
   "source": [
    "#\n",
    "print(ReggeSym.order());\n",
    "print(ReggeSym.structure_description());\n",
    "#"
   ]
  },
  {
   "cell_type": "code",
   "execution_count": 11,
   "metadata": {
    "collapsed": false
   },
   "outputs": [
    {
     "name": "stdout",
     "output_type": "stream",
     "text": [
      "1152\n",
      "(S4 x S4) : C2\n"
     ]
    }
   ],
   "source": [
    "#\n",
    "print(ReggeSym_affine.order());\n",
    "print(ReggeSym_affine.structure_description());\n",
    "#"
   ]
  },
  {
   "cell_type": "code",
   "execution_count": 12,
   "metadata": {
    "collapsed": false
   },
   "outputs": [
   ],
   "source": [
    "###############################################################################\n",
    "### Define the triangle inequalities: the dihedral angles (a,d,b,e,c,f) are ###\n",
    "### ordered as ([1,2],[3,4],[1,3],[2,4],[1,4],[2,3]) wrt to vertex indices  ###\n",
    "### and for each entry x = (x0,x1,x2,x3,x4,x5,x7) we have the inequality    ###\n",
    "### x0*\\pi + x1*a + x2*d + x3*b + x4*e + x5*c + x7*f >= 0                   ###\n",
    "###############################################################################"
   ]
  },
  {
   "cell_type": "code",
   "execution_count": 13,
   "metadata": {
    "collapsed": false
   },
   "outputs": [
   ],
   "source": [
    "#\n",
    "triangle_ineq_list = [(-1,1,0,1,0,1,0),\n",
    "                      (1,1,0,-1,0,-1,0),\n",
    "                      (1,-1,0,1,0,-1,0),\n",
    "                      (1,-1,0,-1,0,1,0),\n",
    "                      ###\n",
    "                      (-1,0,1,0,1,1,0),\n",
    "                      (1,0,1,0,-1,-1,0),\n",
    "                      (1,0,-1,0,1,-1,0),\n",
    "                      (1,0,-1,0,-1,1,0),\n",
    "                      ###\n",
    "                      (-1,0,1,1,0,0,1),\n",
    "                      (1,0,1,-1,0,0,-1),\n",
    "                      (1,0,-1,1,0,0,-1),\n",
    "                      (1,0,-1,-1,0,0,1),\n",
    "                      ###\n",
    "                      (-1,1,0,0,1,0,1),\n",
    "                      (1,1,0,0,-1,0,-1),\n",
    "                      (1,-1,0,0,1,0,-1),\n",
    "                      (1,-1,0,0,-1,0,1)];\n",
    "#"
   ]
  },
  {
   "cell_type": "code",
   "execution_count": 14,
   "metadata": {
    "collapsed": false
   },
   "outputs": [
   ],
   "source": [
    "#####################################################\n",
    "### Define the \"triangle inequalities\" polytope T ###\n",
    "#####################################################"
   ]
  },
  {
   "cell_type": "code",
   "execution_count": 15,
   "metadata": {
    "collapsed": false
   },
   "outputs": [
    {
     "name": "stdout",
     "output_type": "stream",
     "text": [
      "----------------------------------------------------\n",
      "(A vertex at (0, 0, 1, 1, 0, 0), A vertex at (0, 1, 0, 1, 1, 0), A vertex at (0, 0, 0, 0, 1, 1), A vertex at (0, 1, 1, 0, 0, 1), A vertex at (1, 1, 0, 0, 0, 0), A vertex at (1, 0, 0, 1, 0, 1), A vertex at (1, 1, 1, 1, 1, 1), A vertex at (1, 0, 1, 0, 1, 0))\n",
      "----------------------------------------------------\n",
      "(An inequality (-1, 0, -1, 0, 1, 0) x + 1 >= 0, An inequality (-1, 0, 0, -1, 0, 1) x + 1 >= 0, An inequality (-1, 0, 0, 1, 0, -1) x + 1 >= 0, An inequality (-1, 0, 1, 0, -1, 0) x + 1 >= 0, An inequality (0, -1, -1, 0, 0, 1) x + 1 >= 0, An inequality (0, -1, 0, -1, 1, 0) x + 1 >= 0, An inequality (0, -1, 0, 1, -1, 0) x + 1 >= 0, An inequality (0, -1, 1, 0, 0, -1) x + 1 >= 0, An inequality (1, 0, 1, 0, 1, 0) x - 1 >= 0, An inequality (0, 1, -1, 0, 0, -1) x + 1 >= 0, An inequality (0, 1, 0, -1, -1, 0) x + 1 >= 0, An inequality (0, 1, 0, 1, 1, 0) x - 1 >= 0, An inequality (0, 1, 1, 0, 0, 1) x - 1 >= 0, An inequality (1, 0, -1, 0, -1, 0) x + 1 >= 0, An inequality (1, 0, 0, -1, 0, -1) x + 1 >= 0, An inequality (1, 0, 0, 1, 0, 1) x - 1 >= 0)\n"
     ]
    }
   ],
   "source": [
    "#\n",
    "T = Polyhedron(ieqs=triangle_ineq_list);\n",
    "#\n",
    "print(\"----------------------------------------------------\");\n",
    "print(T.Vrepresentation()); # as convex hull\n",
    "#\n",
    "print(\"----------------------------------------------------\");\n",
    "print(T.Hrepresentation()); # as intersection of hyperplanes\n",
    "#"
   ]
  },
  {
   "cell_type": "code",
   "execution_count": 16,
   "metadata": {
    "collapsed": false
   },
   "outputs": [
   ],
   "source": [
    "####################################################################################\n",
    "### The set of vertices of T is invariant under the action of Sym (and ReggeSym) ###\n",
    "### Thus, T itself is invariant under Sym (and ReggeSym)                         ###\n",
    "####################################################################################"
   ]
  },
  {
   "cell_type": "code",
   "execution_count": 17,
   "metadata": {
    "collapsed": false
   },
   "outputs": [
    {
     "name": "stdout",
     "output_type": "stream",
     "text": [
      "Is T invariant? True\n"
     ]
    }
   ],
   "source": [
    "#\n",
    "vertices = [vector(list(v)+[1]) for v in T.vertices()];\n",
    "s = set([tuple(v) for v in vertices]);\n",
    "flag = True;\n",
    "for g in ReggeSym:\n",
    "    flag = flag and (set([tuple(g*v) for v in vertices]) == s);\n",
    "#\n",
    "print(\"Is T invariant?\", flag);\n",
    "#"
   ]
  },
  {
   "cell_type": "code",
   "execution_count": 18,
   "metadata": {
    "collapsed": false
   },
   "outputs": [
   ],
   "source": [
    "#################################\n",
    "### Define the cube [0,\\pi]^6 ###\n",
    "#################################"
   ]
  },
  {
   "cell_type": "code",
   "execution_count": 19,
   "metadata": {
    "collapsed": false
   },
   "outputs": [
    {
     "name": "stdout",
     "output_type": "stream",
     "text": [
      "A 6-dimensional polyhedron in ZZ^6 defined as the convex hull of 64 vertices\n"
     ]
    }
   ],
   "source": [
    "#\n",
    "Cube = Polyhedron(vertices=[[0,0,0,0,0,0]]+Permutations([1,0,0,0,0,0]).list()+Permutations([1,1,0,0,0,0]).list()+Permutations([1,1,1,0,0,0]).list()+Permutations([1,1,1,1,0,0]).list()+Permutations([1,1,1,1,1,0]).list()+[[1,1,1,1,1,1]]);\n",
    "#\n",
    "print(Cube);\n",
    "#"
   ]
  },
  {
   "cell_type": "code",
   "execution_count": 20,
   "metadata": {
    "collapsed": false
   },
   "outputs": [
   ],
   "source": [
    "################################################\n",
    "### Cube \\cap T = T (as an additional check) ###\n",
    "################################################"
   ]
  },
  {
   "cell_type": "code",
   "execution_count": 21,
   "metadata": {
    "collapsed": false
   },
   "outputs": [
    {
     "name": "stdout",
     "output_type": "stream",
     "text": [
      "Is T a subset of the 6-cube? True\n"
     ]
    }
   ],
   "source": [
    "#\n",
    "print(\"Is T a subset of the 6-cube?\", Cube.intersection(T)==T);\n",
    "#"
   ]
  },
  {
   "cell_type": "code",
   "execution_count": 22,
   "metadata": {
    "collapsed": false
   },
   "outputs": [
   ],
   "source": [
    "##################################################################################################\n",
    "### Determine the possible \\pm 2\\pi translations along each coordinate of the angle 6-tuple    ###\n",
    "### that put said coordinate into [0,\\pi] for the possible parameter values s,t \\in [\\-pi,\\pi] ###\n",
    "##################################################################################################"
   ]
  },
  {
   "cell_type": "code",
   "execution_count": 23,
   "metadata": {
    "collapsed": false
   },
   "outputs": [
   ],
   "source": [
    "def translations_list(m,a,b):\n",
    "    #\n",
    "    [aa,bb] = [(m*vector(v+[1]))[:-1] for v in [a,b]];\n",
    "    #\n",
    "    f1_min, f1_max = sorted([(aa-bb)[0], (aa+bb)[0]]);\n",
    "    f2_min, f2_max = sorted([(aa-bb)[1], (aa+bb)[1]]);\n",
    "    f3_min, f3_max = sorted([(aa-bb)[2], (aa+bb)[2]]);\n",
    "    f4_min, f4_max = sorted([(aa-bb)[3], (aa+bb)[3]]);\n",
    "    f5_min, f5_max = sorted([(aa-bb)[4], (aa+bb)[4]]);\n",
    "    f6_min, f6_max = sorted([(aa-bb)[5], (aa+bb)[5]]);\n",
    "    #\n",
    "    r1 = range(-2*ceil(f1_max/2),-2*floor(f1_min/2-1/2)+2,2);\n",
    "    r2 = range(-2*ceil(f2_max/2),-2*floor(f2_min/2-1/2)+2,2);\n",
    "    r3 = range(-2*ceil(f3_max/2),-2*floor(f3_min/2-1/2)+2,2);\n",
    "    r4 = range(-2*ceil(f4_max/2),-2*floor(f4_min/2-1/2)+2,2);\n",
    "    r5 = range(-2*ceil(f5_max/2),-2*floor(f5_min/2-1/2)+2,2);\n",
    "    r6 = range(-2*ceil(f6_max/2),-2*floor(f6_min/2-1/2)+2,2);\n",
    "    #\n",
    "    return [[x1,x2,x3,x4,x5,x6] for x1 in r1 for x2 in r2 for x3 in r3 for x4 in r4 for x5 in r5 for x6 in r6];\n",
    "    #"
   ]
  },
  {
   "cell_type": "code",
   "execution_count": 24,
   "metadata": {
    "collapsed": false
   },
   "outputs": [
   ],
   "source": [
    "##########################################################\n",
    "### Convert algebraic families into geometric families ###\n",
    "##########################################################"
   ]
  },
  {
   "cell_type": "code",
   "execution_count": 25,
   "metadata": {
    "collapsed": false
   },
   "outputs": [
    {
     "name": "stdout",
     "output_type": "stream",
     "text": [
      "Algebraic family 0\n",
      "Element 0\n",
      "Translations 972\n",
      "490\n",
      "905\n",
      "Element 1\n",
      "Translations 648\n",
      "Element 2\n",
      "Translations 972\n",
      "481\n",
      "932\n",
      "Element 3\n",
      "Translations 648\n",
      "Element 4\n",
      "Translations 648\n",
      "Element 5\n",
      "Translations 432\n",
      "Element 6\n",
      "Translations 648\n",
      "Element 7\n",
      "Translations 432\n",
      "Element 8\n",
      "Translations 972\n",
      "Element 9\n",
      "Translations 648\n",
      "Element 10\n",
      "Translations 972\n",
      "Element 11\n",
      "Translations 648\n",
      "Element 12\n",
      "Translations 648\n",
      "Element 13\n",
      "Translations 432\n",
      "Element 14\n",
      "Translations 648\n",
      "Element 15\n",
      "Translations 432\n",
      "Element 16\n",
      "Translations 972\n",
      "Element 17\n",
      "Translations 648\n",
      "Element 18\n",
      "Translations 972\n",
      "Element 19\n",
      "Translations 648\n",
      "Element 20\n",
      "Translations 648\n",
      "Element 21\n",
      "Translations 432\n",
      "Element 22\n",
      "Translations 648\n",
      "Element 23\n",
      "Translations 432\n",
      "Element 24\n",
      "Translations 972\n",
      "Element 25\n",
      "Translations 648\n",
      "Element 26\n",
      "Translations 972\n",
      "Element 27\n",
      "Translations 648\n",
      "Element 28\n",
      "Translations 648\n",
      "Element 29\n",
      "Translations 432\n",
      "Element 30\n",
      "Translations 648\n",
      "Element 31\n",
      "Translations 432\n",
      "Element 32\n",
      "Translations 972\n",
      "Element 33\n",
      "Translations 648\n",
      "Element 34\n",
      "Translations 972\n",
      "Element 35\n",
      "Translations 648\n",
      "Element 36\n",
      "Translations 648\n",
      "Element 37\n",
      "Translations 432\n",
      "Element 38\n",
      "Translations 648\n",
      "Element 39\n",
      "Translations 432\n",
      "Element 40\n",
      "Translations 972\n",
      "Element 41\n",
      "Translations 648\n",
      "Element 42\n",
      "Translations 972\n",
      "Element 43\n",
      "Translations 648\n",
      "Element 44\n",
      "Translations 648\n",
      "Element 45\n",
      "Translations 432\n",
      "Element 46\n",
      "Translations 648\n",
      "Element 47\n",
      "Translations 432\n",
      "Element 48\n",
      "Translations 972\n",
      "Element 49\n",
      "Translations 648\n",
      "Element 50\n",
      "Translations 972\n",
      "Element 51\n",
      "Translations 648\n",
      "Element 52\n",
      "Translations 648\n",
      "Element 53\n",
      "Translations 432\n",
      "Element 54\n",
      "Translations 648\n",
      "Element 55\n",
      "Translations 432\n",
      "Element 56\n",
      "Translations 972\n",
      "481\n",
      "932\n",
      "Element 57\n",
      "Translations 648\n",
      "Element 58\n",
      "Translations 972\n",
      "490\n",
      "905\n",
      "Element 59\n",
      "Translations 648\n",
      "Element 60\n",
      "Translations 648\n",
      "Element 61\n",
      "Translations 432\n",
      "Element 62\n",
      "Translations 648\n",
      "Element 63\n",
      "Translations 432\n",
      "Algebraic family 1\n",
      "Element 0\n",
      "Translations 1620\n",
      "Element 1\n",
      "Translations 1080\n",
      "Element 2\n",
      "Translations 1620\n",
      "Element 3\n",
      "Translations 1080\n",
      "Element 4\n",
      "Translations 1080\n",
      "Element 5\n",
      "Translations 720\n",
      "Element 6\n",
      "Translations 1080\n",
      "Element 7\n",
      "Translations 720\n",
      "Element 8\n",
      "Translations 1620\n",
      "Element 9\n",
      "Translations 1080\n",
      "Element 10\n",
      "Translations 1620\n",
      "Element 11\n",
      "Translations 1080\n",
      "Element 12\n",
      "Translations 1080\n",
      "Element 13\n",
      "Translations 720\n",
      "Element 14\n",
      "Translations 1080\n",
      "Element 15\n",
      "Translations 720\n",
      "Element 16\n",
      "Translations 1620\n",
      "886\n",
      "1130\n",
      "Element 17\n",
      "Translations 1080\n",
      "Element 18\n",
      "Translations 1620\n",
      "868\n",
      "1166\n",
      "Element 19\n",
      "Translations 1080\n",
      "Element 20\n",
      "Translations 1080\n",
      "Element 21\n",
      "Translations 720\n",
      "Element 22\n",
      "Translations 1080\n",
      "Element 23\n",
      "Translations 720\n",
      "Element 24\n",
      "Translations 1620\n",
      "Element 25\n",
      "Translations 1080\n",
      "Element 26\n",
      "Translations 1620\n",
      "Element 27\n",
      "Translations 1080\n",
      "Element 28\n",
      "Translations 1080\n",
      "Element 29\n",
      "Translations 720\n",
      "Element 30\n",
      "Translations 1080\n",
      "Element 31\n",
      "Translations 720\n",
      "Element 32\n",
      "Translations 1620\n",
      "Element 33\n",
      "Translations 1080\n",
      "Element 34\n",
      "Translations 1620\n",
      "Element 35\n",
      "Translations 1080\n",
      "Element 36\n",
      "Translations 1080\n",
      "Element 37\n",
      "Translations 720\n",
      "Element 38\n",
      "Translations 1080\n",
      "Element 39\n",
      "Translations 720\n",
      "Element 40\n",
      "Translations 1620\n",
      "868\n",
      "1166\n",
      "Element 41\n",
      "Translations 1080\n",
      "Element 42\n",
      "Translations 1620\n",
      "886\n",
      "1130\n",
      "Element 43\n",
      "Translations 1080\n",
      "Element 44\n",
      "Translations 1080\n",
      "Element 45\n",
      "Translations 720\n",
      "Element 46\n",
      "Translations 1080\n",
      "Element 47\n",
      "Translations 720\n",
      "Element 48\n",
      "Translations 1620\n",
      "Element 49\n",
      "Translations 1080\n",
      "Element 50\n",
      "Translations 1620\n",
      "Element 51\n",
      "Translations 1080\n",
      "Element 52\n",
      "Translations 1080\n",
      "Element 53\n",
      "Translations 720\n",
      "Element 54\n",
      "Translations 1080\n",
      "Element 55\n",
      "Translations 720\n",
      "Element 56\n",
      "Translations 1620\n",
      "Element 57\n",
      "Translations 1080\n",
      "Element 58\n",
      "Translations 1620\n",
      "Element 59\n",
      "Translations 1080\n",
      "Element 60\n",
      "Translations 1080\n",
      "Element 61\n",
      "Translations 720\n",
      "Element 62\n",
      "Translations 1080\n",
      "Element 63\n",
      "Translations 720\n",
      "Algebraic family 2\n",
      "Element 0\n",
      "Translations 1620\n",
      "Element 1\n",
      "Translations 1080\n",
      "Element 2\n",
      "Translations 1620\n",
      "Element 3\n",
      "Translations 1080\n",
      "Element 4\n",
      "Translations 1620\n",
      "Element 5\n",
      "Translations 1080\n",
      "Element 6\n",
      "Translations 1620\n",
      "Element 7\n",
      "Translations 1080\n",
      "Element 8\n",
      "Translations 1620\n",
      "Element 9\n",
      "Translations 1080\n",
      "Element 10\n",
      "Translations 1620\n",
      "Element 11\n",
      "Translations 1080\n",
      "Element 12\n",
      "Translations 1620\n",
      "Element 13\n",
      "Translations 1080\n",
      "Element 14\n",
      "Translations 1620\n",
      "Element 15\n",
      "Translations 1080\n",
      "Element 16\n",
      "Translations 1620\n",
      "Element 17\n",
      "Translations 1080\n",
      "Element 18\n",
      "Translations 1620\n",
      "Element 19\n",
      "Translations 1080\n",
      "Element 20\n",
      "Translations 1620\n",
      "Element 21\n",
      "Translations 1080\n",
      "Element 22\n",
      "Translations 1620\n",
      "Element 23\n",
      "Translations 1080\n",
      "Element 24\n",
      "Translations 1620\n",
      "Element 25\n",
      "Translations 1080\n",
      "Element 26\n",
      "Translations 1620\n",
      "Element 27\n",
      "Translations 1080\n",
      "Element 28\n",
      "Translations 1620\n",
      "Element 29\n",
      "Translations 1080\n",
      "Element 30\n",
      "Translations 1620\n",
      "Element 31\n",
      "Translations 1080\n",
      "Element 32\n",
      "Translations 1080\n",
      "Element 33\n",
      "Translations 720\n",
      "Element 34\n",
      "Translations 1080\n",
      "Element 35\n",
      "Translations 720\n",
      "Element 36\n",
      "Translations 1080\n",
      "Element 37\n",
      "Translations 720\n",
      "Element 38\n",
      "Translations 1080\n",
      "Element 39\n",
      "Translations 720\n",
      "Element 40\n",
      "Translations 1080\n",
      "Element 41\n",
      "Translations 720\n",
      "Element 42\n",
      "Translations 1080\n",
      "Element 43\n",
      "Translations 720\n",
      "Element 44\n",
      "Translations 1080\n",
      "Element 45\n",
      "Translations 720\n",
      "Element 46\n",
      "Translations 1080\n",
      "Element 47\n",
      "Translations 720\n",
      "Element 48\n",
      "Translations 1080\n",
      "Element 49\n",
      "Translations 720\n",
      "Element 50\n",
      "Translations 1080\n",
      "Element 51\n",
      "Translations 720\n",
      "Element 52\n",
      "Translations 1080\n",
      "Element 53\n",
      "Translations 720\n",
      "Element 54\n",
      "Translations 1080\n",
      "Element 55\n",
      "Translations 720\n",
      "Element 56\n",
      "Translations 1080\n",
      "Element 57\n",
      "Translations 720\n",
      "Element 58\n",
      "Translations 1080\n",
      "Element 59\n",
      "Translations 720\n",
      "Element 60\n",
      "Translations 1080\n",
      "Element 61\n",
      "Translations 720\n",
      "Element 62\n",
      "Translations 1080\n",
      "Element 63\n",
      "Translations 720\n",
      "Geometric families found so far: 4\n"
     ]
    }
   ],
   "source": [
    "#\n",
    "geom_families = set([]);\n",
    "#\n",
    "Signs_list = Signs.list();\n",
    "#\n",
    "for f in algebraic_families:\n",
    "    # \n",
    "    print(\"Algebraic family\", algebraic_families.index(f));\n",
    "    #\n",
    "    [a,b] = f;\n",
    "    #\n",
    "    for m in Signs_list:\n",
    "        print(\"Element\", Signs_list.index(m));\n",
    "        translations = translations_list(m,a,b);\n",
    "        print(\"Translations\", len(translations));\n",
    "        for t in translations:\n",
    "            u = m*vector(a+[1])+vector(t+[0]);\n",
    "            u = u[:-1];\n",
    "            v = m*vector(b+[0]);\n",
    "            v = v[:-1];\n",
    "            q = Polyhedron(vertices=[u],lines=[v]);\n",
    "            p = q.intersection(T); # intersect with the \"triangle inequalities\" polytope\n",
    "            if p.dimension()>0:\n",
    "                print(translations.index(t));\n",
    "                geom_families = geom_families.union(set([p]));\n",
    "#\n",
    "print(\"Geometric families found so far:\", len(geom_families));\n",
    "#"
   ]
  },
  {
   "cell_type": "code",
   "execution_count": 26,
   "metadata": {
    "collapsed": false
   },
   "outputs": [
   ],
   "source": [
    "###########################################################################################################\n",
    "### The affine Regge group maps the cube [0,\\pi]^6 into itself: we can compute all the images           ###\n",
    "### of the already obtained geometric families under its action without employing \\pm 2\\pi translations ###\n",
    "###########################################################################################################"
   ]
  },
  {
   "cell_type": "code",
   "execution_count": 27,
   "metadata": {
    "collapsed": false
   },
   "outputs": [
    {
     "name": "stdout",
     "output_type": "stream",
     "text": [
      "Total geometric families found: 2304\n"
     ]
    }
   ],
   "source": [
    "temp = set([]);\n",
    "while(temp!=geom_families):\n",
    "    temp = geom_families;\n",
    "    for p in geom_families:\n",
    "        for m in ReggeSym_affine:\n",
    "            q = Polyhedron([(matrix(m)*vector(list(v)+[1]))[:-1] for v in p.vertices()]);\n",
    "            temp = temp.union(set([q]));\n",
    "    geom_families = geom_families.union(temp);\n",
    "print(\"Total geometric families found:\", len(geom_families));"
   ]
  },
  {
   "cell_type": "code",
   "execution_count": 28,
   "metadata": {
    "collapsed": false
   },
   "outputs": [
   ],
   "source": [
    "###########################################################################################################\n",
    "### Creating the list of orbit representatives under S^{\\pm}_4 action = 1-parameter line configurations ###\n",
    "###########################################################################################################"
   ]
  },
  {
   "cell_type": "code",
   "execution_count": 29,
   "metadata": {
    "collapsed": false
   },
   "outputs": [
    {
     "name": "stdout",
     "output_type": "stream",
     "text": [
      "12\n"
     ]
    }
   ],
   "source": [
    "geom_families = list(geom_families);\n",
    "lines = copy(geom_families);\n",
    "for m in Sym_sign:\n",
    "    for p in lines:\n",
    "        q = Polyhedron([(matrix(m)*vector(list(v)+[1]))[:-1] for v in p.vertices()]);\n",
    "        if (q in lines)and(p!=q):\n",
    "            lines.remove(q);\n",
    "#\n",
    "# Removing duplicates\n",
    "#\n",
    "lines = list(set(lines));\n",
    "#\n",
    "# How many orbits ?\n",
    "#\n",
    "print(len(lines));"
   ]
  },
  {
   "cell_type": "code",
   "execution_count": 30,
   "metadata": {
    "collapsed": false
   },
   "outputs": [
   ],
   "source": [
    "#############################################################################################\n",
    "### There are 12 distinct, up to the action of S^{\\pm}_4, 1-parameter line configurations ###\n",
    "#############################################################################################"
   ]
  },
  {
   "cell_type": "code",
   "execution_count": 31,
   "metadata": {
    "collapsed": false
   },
   "outputs": [
    {
     "name": "stdout",
     "output_type": "stream",
     "text": [
      "0 : A 1-dimensional polyhedron in QQ^6 defined as the convex hull of 2 vertices\n",
      "[(5/6, 1/2, 1/6, 5/6, 2/3, 1/3), (13/18, 5/18, 1/2, 5/6, 5/9, 1/3)]\n",
      "1 : A 1-dimensional polyhedron in QQ^6 defined as the convex hull of 2 vertices\n",
      "[(1/2, 1/2, 0, 2/3, 1/2, 1/2), (5/6, 5/6, 2/3, 2/3, 5/6, 1/2)]\n",
      "2 : A 1-dimensional polyhedron in QQ^6 defined as the convex hull of 2 vertices\n",
      "[(5/6, 1/6, 2/3, 1/3, 1/2, 5/6), (11/18, 5/18, 7/9, 5/9, 5/18, 13/18)]\n",
      "3 : A 1-dimensional polyhedron in QQ^6 defined as the convex hull of 2 vertices\n",
      "[(1/2, 1/6, 2/3, 1/3, 1/6, 5/6), (11/18, 7/18, 7/9, 1/3, 1/2, 5/6)]\n",
      "4 : A 1-dimensional polyhedron in QQ^6 defined as the convex hull of 2 vertices\n",
      "[(2/3, 2/3, 0, 1/3, 1/3, 1/3), (1/2, 1/2, 1/2, 1/2, 1/3, 1)]\n",
      "5 : A 1-dimensional polyhedron in QQ^6 defined as the convex hull of 2 vertices\n",
      "[(1/6, 5/6, 1/2, 1/2, 2/3, 2/3), (2/3, 2/3, 1/3, 0, 1/3, 1/3)]\n",
      "6 : A 1-dimensional polyhedron in QQ^6 defined as the convex hull of 2 vertices\n",
      "[(1/2, 1/2, 1/3, 1/3, 5/6, 1/6), (1/2, 5/6, 2/3, 2/3, 5/6, 5/6)]\n",
      "7 : A 1-dimensional polyhedron in QQ^6 defined as the convex hull of 2 vertices\n",
      "[(1/3, 2/3, 1/6, 5/6, 1/6, 1/2), (1/2, 1/2, 1/6, 1/6, 2/3, 1/3)]\n",
      "8 : A 1-dimensional polyhedron in QQ^6 defined as the convex hull of 2 vertices\n",
      "[(1/6, 5/6, 1/6, 1/2, 1/3, 2/3), (1/2, 1/2, 2/3, 1/3, 1/6, 1/6)]\n",
      "9 : A 1-dimensional polyhedron in QQ^6 defined as the convex hull of 2 vertices\n",
      "[(2/3, 1/3, 0, 2/3, 2/3, 1/3), (7/9, 5/9, 1/3, 2/3, 7/9, 1/3)]\n",
      "10 : A 1-dimensional polyhedron in QQ^6 defined as the convex hull of 2 vertices\n",
      "[(2/3, 1/3, 5/6, 1/6, 1/6, 1/2), (5/9, 1/9, 11/18, 5/18, 7/18, 11/18)]\n",
      "11 : A 1-dimensional polyhedron in QQ^6 defined as the convex hull of 2 vertices\n",
      "[(1, 1/3, 1/3, 2/3, 2/3, 1/3), (2/3, 1/3, 1/9, 5/9, 2/3, 4/9)]\n"
     ]
    }
   ],
   "source": [
    "for p in lines:\n",
    "    print(lines.index(p), \":\", p);\n",
    "    print([vector(v) for v in p.vertices()]);"
   ]
  },
  {
   "cell_type": "code",
   "execution_count": 32,
   "metadata": {
    "collapsed": false
   },
   "outputs": [
   ],
   "source": [
    "######################################################################################\n",
    "### Creating the list of orbit representatives under the action of the Regge group ###\n",
    "######################################################################################"
   ]
  },
  {
   "cell_type": "code",
   "execution_count": 33,
   "metadata": {
    "collapsed": false
   },
   "outputs": [
    {
     "name": "stdout",
     "output_type": "stream",
     "text": [
      "7\n"
     ]
    }
   ],
   "source": [
    "lines_Regge = copy(lines);\n",
    "for m in ReggeSym:\n",
    "    for p in lines_Regge:\n",
    "        q = Polyhedron([(matrix(m)*vector(list(v)+[1]))[:-1] for v in p.vertices()]);\n",
    "        if (q in lines_Regge)and(p!=q):\n",
    "            lines_Regge.remove(q);\n",
    "#\n",
    "# Removing duplicates\n",
    "#\n",
    "lines_Regge = list(set(lines_Regge));\n",
    "#\n",
    "# How many orbits ?\n",
    "#\n",
    "print(len(lines_Regge));"
   ]
  },
  {
   "cell_type": "code",
   "execution_count": 34,
   "metadata": {
    "collapsed": false
   },
   "outputs": [
   ],
   "source": [
    "#############################################################\n",
    "### Printing out the Regge orbits of 1-parameter families ###\n",
    "#############################################################"
   ]
  },
  {
   "cell_type": "code",
   "execution_count": 35,
   "metadata": {
    "collapsed": false
   },
   "outputs": [
    {
     "name": "stdout",
     "output_type": "stream",
     "text": [
      "A 1-dimensional polyhedron in QQ^6 defined as the convex hull of 2 vertices\n",
      "[(5/6, 1/6, 2/3, 1/3, 1/2, 5/6), (11/18, 5/18, 7/9, 5/9, 5/18, 13/18)]\n",
      "A 1-dimensional polyhedron in QQ^6 defined as the convex hull of 2 vertices\n",
      "[(1/3, 2/3, 1/6, 5/6, 1/6, 1/2), (1/2, 1/2, 1/6, 1/6, 2/3, 1/3)]\n",
      "A 1-dimensional polyhedron in QQ^6 defined as the convex hull of 2 vertices\n",
      "[(2/3, 1/3, 0, 2/3, 2/3, 1/3), (7/9, 5/9, 1/3, 2/3, 7/9, 1/3)]\n",
      "A 1-dimensional polyhedron in QQ^6 defined as the convex hull of 2 vertices\n",
      "[(1/2, 1/2, 1/3, 1/3, 5/6, 1/6), (1/2, 5/6, 2/3, 2/3, 5/6, 5/6)]\n",
      "A 1-dimensional polyhedron in QQ^6 defined as the convex hull of 2 vertices\n",
      "[(1/6, 5/6, 1/2, 1/2, 2/3, 2/3), (2/3, 2/3, 1/3, 0, 1/3, 1/3)]\n",
      "A 1-dimensional polyhedron in QQ^6 defined as the convex hull of 2 vertices\n",
      "[(2/3, 1/3, 5/6, 1/6, 1/6, 1/2), (5/9, 1/9, 11/18, 5/18, 7/18, 11/18)]\n",
      "A 1-dimensional polyhedron in QQ^6 defined as the convex hull of 2 vertices\n",
      "[(1, 1/3, 1/3, 2/3, 2/3, 1/3), (2/3, 1/3, 1/9, 5/9, 2/3, 4/9)]\n"
     ]
    }
   ],
   "source": [
    "for p in lines_Regge:\n",
    "    print(p);\n",
    "    print([vector(v) for v in p.vertices()]);"
   ]
  },
  {
   "cell_type": "code",
   "execution_count": 36,
   "metadata": {
    "collapsed": false
   },
   "outputs": [
   ],
   "source": [
    "#############################################################################################\n",
    "### Creating the list of orbit representatives under the action of the affine Regge group ###\n",
    "#############################################################################################"
   ]
  },
  {
   "cell_type": "code",
   "execution_count": 37,
   "metadata": {
    "collapsed": false
   },
   "outputs": [
    {
     "name": "stdout",
     "output_type": "stream",
     "text": [
      "2\n"
     ]
    }
   ],
   "source": [
    "lines_Regge_affine = copy(lines);\n",
    "for m in ReggeSym_affine:\n",
    "    for p in lines_Regge_affine:\n",
    "        q = Polyhedron([(matrix(m)*vector(list(v)+[1]))[:-1] for v in p.vertices()]);\n",
    "        if (q in lines_Regge_affine)and(p!=q):\n",
    "            lines_Regge_affine.remove(q);\n",
    "#\n",
    "# Removing duplicates\n",
    "#\n",
    "lines_Regge_affine = list(set(lines_Regge_affine));\n",
    "#\n",
    "# How many orbits ?\n",
    "#\n",
    "print(len(lines_Regge_affine));"
   ]
  },
  {
   "cell_type": "code",
   "execution_count": 38,
   "metadata": {
    "collapsed": false
   },
   "outputs": [
   ],
   "source": [
    "###########################################################################################\n",
    "### Printing out the orbits of 1-parameter families under the affine Regge group action ###\n",
    "###########################################################################################"
   ]
  },
  {
   "cell_type": "code",
   "execution_count": 39,
   "metadata": {
    "collapsed": false
   },
   "outputs": [
    {
     "name": "stdout",
     "output_type": "stream",
     "text": [
      "A 1-dimensional polyhedron in QQ^6 defined as the convex hull of 2 vertices\n",
      "[(1/2, 1/2, 1/3, 1/3, 5/6, 1/6), (1/2, 5/6, 2/3, 2/3, 5/6, 5/6)]\n",
      "A 1-dimensional polyhedron in QQ^6 defined as the convex hull of 2 vertices\n",
      "[(2/3, 1/3, 0, 2/3, 2/3, 1/3), (7/9, 5/9, 1/3, 2/3, 7/9, 1/3)]\n"
     ]
    }
   ],
   "source": [
    "for p in lines_Regge_affine:\n",
    "    print(p);\n",
    "    print([vector(v) for v in p.vertices()]);"
   ]
  },
  {
   "cell_type": "code",
   "execution_count": 40,
   "metadata": {
    "collapsed": false
   },
   "outputs": [
    {
     "name": "stdout",
     "output_type": "stream",
     "text": [
      "Runtime: 0:23:14.611841\n"
     ]
    }
   ],
   "source": [
    "### This is a runtime estimate section ###\n",
    "t1 = datetime.now();\n",
    "print(\"Runtime:\", t1-t0);"
   ]
  }
 ],
 "metadata": {
  "kernelspec": {
   "display_name": "SageMath 9.1",
   "language": "sagemath",
   "metadata": {
    "cocalc": {
     "description": "Open-source mathematical software system",
     "priority": 10,
     "url": "https://www.sagemath.org/"
    }
   },
   "name": "sage-9.1"
  },
  "language_info": {
   "codemirror_mode": {
    "name": "ipython",
    "version": 3
   },
   "file_extension": ".py",
   "mimetype": "text/x-python",
   "name": "python",
   "nbconvert_exporter": "python",
   "pygments_lexer": "ipython3",
   "version": "3.7.3"
  }
 },
 "nbformat": 4,
 "nbformat_minor": 4
}